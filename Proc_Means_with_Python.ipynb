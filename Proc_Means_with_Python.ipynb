{
  "metadata": {
    "kernelspec": {
      "name": "python3",
      "display_name": "Python 3",
      "language": "python"
    },
    "associatedRecipe": "compute_Proc_Means_with_Python",
    "dkuGit": {
      "gitReference": {
        "remote": "https://github.com/erindavisdataiku/SAS_to_DSS.git",
        "checkout": "refs/heads/main",
        "remotePath": "Proc_Means_with_Python.ipynb",
        "isDirty": false
      },
      "lastInteraction": 1656014697697
    },
    "creationTag": {
      "versionNumber": 0,
      "lastModifiedBy": {
        "login": "admin"
      },
      "lastModifiedOn": 1655911897610
    },
    "creator": "admin",
    "createdOn": 1655911897610,
    "tags": [
      "recipe-editor"
    ],
    "customFields": {},
    "hide_input": false,
    "language_info": {
      "name": "python",
      "version": "3.6.8",
      "mimetype": "text/x-python",
      "codemirror_mode": {
        "name": "ipython",
        "version": 3
      },
      "pygments_lexer": "ipython3",
      "nbconvert_exporter": "python",
      "file_extension": ".py"
    },
    "modifiedBy": "admin"
  },
  "nbformat": 4,
  "nbformat_minor": 1,
  "cells": [
    {
      "execution_count": 0,
      "cell_type": "code",
      "metadata": {},
      "source": [
        "# -*- coding: utf-8 -*-\nimport dataiku\nimport pandas as pd, numpy as np\nfrom dataiku import pandasutils as pdu\n\n# Read recipe inputs\nHouse_and_SaleInfo \u003d dataiku.Dataset(\"House_and_SaleInfo\")\nHouse_and_SaleInfo_df \u003d House_and_SaleInfo.get_dataframe()"
      ],
      "outputs": []
    },
    {
      "execution_count": 0,
      "cell_type": "code",
      "metadata": {},
      "source": [
        "# Compute recipe outputs from inputs\n# TODO: Replace this part by your actual code that computes the output, as a Pandas dataframe\n# NB: DSS also supports other kinds of APIs for reading and writing data. Please see doc.\n\nProc_Means_with_Python_df \u003d House_and_SaleInfo_df.describe().transpose().reset_index()\nProc_Means_with_Python_df\n# For this sample code, simply copy input to output"
      ],
      "outputs": []
    },
    {
      "execution_count": 0,
      "cell_type": "code",
      "metadata": {},
      "source": [
        "# Write recipe outputs\nProc_Means_with_Python \u003d dataiku.Dataset(\"Proc_Means_with_Python\")\nProc_Means_with_Python.write_with_schema(Proc_Means_with_Python_df)"
      ],
      "outputs": []
    }
  ]
}