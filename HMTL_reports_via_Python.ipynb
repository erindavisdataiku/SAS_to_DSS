{
  "metadata": {
    "kernelspec": {
      "name": "python3",
      "display_name": "Python 3",
      "language": "python"
    },
    "creator": "admin",
    "createdOn": 1656093679185,
    "tags": [],
    "customFields": {},
    "hide_input": false,
    "language_info": {
      "name": "python",
      "version": "3.6.8",
      "mimetype": "text/x-python",
      "codemirror_mode": {
        "name": "ipython",
        "version": 3
      },
      "pygments_lexer": "ipython3",
      "nbconvert_exporter": "python",
      "file_extension": ".py"
    },
    "modifiedBy": "admin"
  },
  "nbformat": 4,
  "nbformat_minor": 1,
  "cells": [
    {
      "execution_count": 0,
      "cell_type": "code",
      "metadata": {},
      "source": [
        "# -*- coding: utf-8 -*-\nimport dataiku\nimport pandas as pd, numpy as np\nfrom dataiku import pandasutils as pdu\nfrom IPython.core.display import HTML"
      ],
      "outputs": []
    },
    {
      "execution_count": 0,
      "cell_type": "code",
      "metadata": {},
      "source": [
        "# Read recipe inputs\nHouse_and_SaleInfo \u003d dataiku.Dataset(\"House_and_SaleInfo\")\nHouse_and_SaleInfo_df \u003d House_and_SaleInfo.get_dataframe()"
      ],
      "outputs": []
    },
    {
      "execution_count": 0,
      "cell_type": "code",
      "metadata": {},
      "source": [
        "#get the list of columns you want to create freq reports for\nproject_handle \u003d dataiku.api_client().get_project(dataiku.default_project_key())\nlist_of_columns \u003d project_handle.get_variables()[\u0027local\u0027][\u0027list_of_columns\u0027]\nprint(list_of_columns)"
      ],
      "outputs": []
    },
    {
      "execution_count": 0,
      "cell_type": "code",
      "metadata": {},
      "source": [
        "#function to create a single freq report for a column\ndef single_freq(df, var1):\n    freq_counts \u003d df[var1].value_counts(dropna\u003dFalse)\n    df \u003d pd.concat([freq_counts], axis\u003d1, keys\u003d[\u0027Frequency\u0027])\n    df[\"Cumulative Frequency\"] \u003d df[\"Frequency\"].cumsum()\n\n    style_caption \u003d dict(selector\u003d\"caption\",\n                        props\u003d[(\"text-align\", \"right\"),\n                               (\"font-size\", \"120%\"),\n                               (\"color\", \u0027blue\u0027)])\n    style_td \u003d dict(selector\u003d\"td\", props\u003d[(\"border\", \"1px solid grey\"),\n                                          (\"cellpadding\",\"0\")])\n    style_th \u003d dict(selector\u003d\"th\", props\u003d[(\"border\", \"1px solid grey\"),\n                                          (\"cellpadding\",\"0\")])\n\n\n#                                           (\u0027border-color\u0027, \u0027black\u0027),\n#                                           (\u0027border-style\u0027, \u0027solid\u0027)])\n#                                           (\u0027border-width\u0027, \u00271px\u0027)])\n\n    styles \u003d [style_caption, style_td, style_th]\n\n    df \u003d df.style.set_table_attributes(\"style\u003d\u0027display:inline\u0027\").set_caption(\u0027Frequency Table for \u0027+var1).set_table_styles(styles)\n    df_html \u003d df.render()\n    return df_html\n    #return df"
      ],
      "outputs": []
    },
    {
      "execution_count": 0,
      "cell_type": "code",
      "metadata": {},
      "source": [
        "#Test the function\nsingle_freq(House_and_SaleInfo_df,\"Land Slope\")"
      ],
      "outputs": []
    },
    {
      "execution_count": 0,
      "cell_type": "code",
      "metadata": {},
      "source": [
        "#loop through every column in the list, create the html string for the related freq report,\n#append to the string to create the full report\nfull_report \u003d \u0027\u0027\nfor column in list_of_columns:\n    individual_freqs \u003d single_freq(House_and_SaleInfo_df, column)\n    full_report +\u003d individual_freqs + \u0027\u003cbr\u003e\u003cbr\u003e\u0027"
      ],
      "outputs": []
    },
    {
      "execution_count": 0,
      "cell_type": "code",
      "metadata": {},
      "source": [
        "# print(full_report)\n#show what it looks like\nHTML(full_report)"
      ],
      "outputs": []
    },
    {
      "execution_count": 0,
      "cell_type": "code",
      "metadata": {},
      "source": [
        "#create the HTML file and add the HTML file to managed folder\nHTML_report \u003d dataiku.Folder(\"0HZULy8W\")\n\nHome_Sale_Freq_Report \u003d str.encode(full_report)\n\nwith HTML_report.get_writer(\"Home_Sale_Freq_Report.html\") as w:\n    w.write(Home_Sale_Freq_Report)"
      ],
      "outputs": []
    }
  ]
}